{
 "cells": [
  {
   "cell_type": "markdown",
   "id": "d50419e2",
   "metadata": {},
   "source": []
  },
  {
   "cell_type": "code",
   "execution_count": 1,
   "id": "33ae702d",
   "metadata": {},
   "outputs": [
    {
     "name": "stderr",
     "output_type": "stream",
     "text": [
      "2025-06-10 12:19:47.385 WARNING streamlit.runtime.scriptrunner_utils.script_run_context: Thread 'MainThread': missing ScriptRunContext! This warning can be ignored when running in bare mode.\n"
     ]
    }
   ],
   "source": [
    "from streamlit.testing.v1 import AppTest\n",
    "\n",
    "at = AppTest.from_file(\"Home.py\")\n",
    "\n",
    "at.secrets[\"WORD\"] = \"Foobar\"\n",
    "\n",
    "at.run()\n",
    "\n",
    "assert not at.exception\n",
    "\n",
    "if at.warning:\n",
    "    assert at.warning[0].value == \"Try again.\""
   ]
  },
  {
   "cell_type": "code",
   "execution_count": 3,
   "id": "2fc54dac",
   "metadata": {},
   "outputs": [
    {
     "name": "stderr",
     "output_type": "stream",
     "text": [
      "2025-06-10 13:16:58.400 Thread 'MainThread': missing ScriptRunContext! This warning can be ignored when running in bare mode.\n"
     ]
    }
   ],
   "source": [
    "from streamlit.testing.v1 import AppTest\n",
    "\n",
    "at = AppTest. from_file(\"Home.py\")\n",
    "\n",
    "at. secrets [\"WORD\"] = \"Foobar\"\n",
    "\n",
    "at.run()\n",
    "\n",
    "assert not at.exception"
   ]
  },
  {
   "cell_type": "code",
   "execution_count": 13,
   "id": "5ad62ce3",
   "metadata": {},
   "outputs": [],
   "source": [
    "from test_network import TestNetwork\n",
    "\n",
    "import pytest\n",
    "from test_network import TestNetwork\n",
    "\n",
    "# Create an instance of the TestNetwork class\n",
    "test_instance = TestNetwork()\n",
    "\n",
    "def test_test_get_shortest_path():\n",
    "    test_instance.setup_method()\n",
    "    test_instance.test_get_shortest_path()\n",
    "\n",
    "def test_test_get_shortest_path_no_path():\n",
    "    test_instance.setup_method()\n",
    "    test_instance.test_get_shortest_path_no_path()\n",
    "\n",
    "def test_test_get_shortest_path_same_station():\n",
    "    test_instance.setup_method()\n",
    "    test_instance.test_get_shortest_path_same_station()\n",
    "\n",
    "def test_test_cut_and_get_shortest_path():\n",
    "    test_instance.setup_method()\n",
    "    test_instance.test_cut_and_get_shortest_path()\n",
    "\n",
    "\n"
   ]
  },
  {
   "cell_type": "code",
   "execution_count": 14,
   "id": "ee4c35ea",
   "metadata": {},
   "outputs": [
    {
     "name": "stderr",
     "output_type": "stream",
     "text": [
      "2025-06-10 13:41:05.659 Thread 'MainThread': missing ScriptRunContext! This warning can be ignored when running in bare mode.\n",
      "2025-06-10 13:41:05.661 Thread 'MainThread': missing ScriptRunContext! This warning can be ignored when running in bare mode.\n",
      "2025-06-10 13:41:05.663 Thread 'MainThread': missing ScriptRunContext! This warning can be ignored when running in bare mode.\n",
      "2025-06-10 13:41:05.663 Thread 'MainThread': missing ScriptRunContext! This warning can be ignored when running in bare mode.\n"
     ]
    },
    {
     "name": "stdout",
     "output_type": "stream",
     "text": [
      "Setting up test network...\n",
      "File not found: ./mart/public/network_graph.csv. Please check if the file exists or ask for access to the file.\n",
      "File not found: ./mart/public/stations.csv. Please check if the file exists or ask for access to the file.\n"
     ]
    },
    {
     "ename": "TypeError",
     "evalue": "'NoneType' object does not support item assignment",
     "output_type": "error",
     "traceback": [
      "\u001b[31m---------------------------------------------------------------------------\u001b[39m",
      "\u001b[31mTypeError\u001b[39m                                 Traceback (most recent call last)",
      "\u001b[36mCell\u001b[39m\u001b[36m \u001b[39m\u001b[32mIn[14]\u001b[39m\u001b[32m, line 1\u001b[39m\n\u001b[32m----> \u001b[39m\u001b[32m1\u001b[39m \u001b[43mtest_test_get_shortest_path\u001b[49m\u001b[43m(\u001b[49m\u001b[43m)\u001b[49m\n",
      "\u001b[36mCell\u001b[39m\u001b[36m \u001b[39m\u001b[32mIn[13]\u001b[39m\u001b[32m, line 10\u001b[39m, in \u001b[36mtest_test_get_shortest_path\u001b[39m\u001b[34m()\u001b[39m\n\u001b[32m      9\u001b[39m \u001b[38;5;28;01mdef\u001b[39;00m\u001b[38;5;250m \u001b[39m\u001b[34mtest_test_get_shortest_path\u001b[39m():\n\u001b[32m---> \u001b[39m\u001b[32m10\u001b[39m     \u001b[43mtest_instance\u001b[49m\u001b[43m.\u001b[49m\u001b[43msetup_method\u001b[49m\u001b[43m(\u001b[49m\u001b[43m)\u001b[49m\n\u001b[32m     11\u001b[39m     test_instance.test_get_shortest_path()\n",
      "\u001b[36mFile \u001b[39m\u001b[32m~/Desktop/internship/Dealy_analysis/tempocom-app/tests/test_network.py:10\u001b[39m, in \u001b[36mTestNetwork.setup_method\u001b[39m\u001b[34m(self)\u001b[39m\n\u001b[32m      8\u001b[39m \u001b[38;5;28;01mdef\u001b[39;00m\u001b[38;5;250m \u001b[39m\u001b[34msetup_method\u001b[39m(\u001b[38;5;28mself\u001b[39m):\n\u001b[32m      9\u001b[39m     \u001b[38;5;28mprint\u001b[39m(\u001b[33m\"\u001b[39m\u001b[33mSetting up test network...\u001b[39m\u001b[33m\"\u001b[39m)\n\u001b[32m---> \u001b[39m\u001b[32m10\u001b[39m     \u001b[38;5;28mself\u001b[39m.network = \u001b[43mMacroNetwork\u001b[49m\u001b[43m(\u001b[49m\u001b[43m)\u001b[49m\n\u001b[32m     11\u001b[39m     \u001b[38;5;28mprint\u001b[39m(\u001b[33m\"\u001b[39m\u001b[33mTest network setup complete\u001b[39m\u001b[33m\"\u001b[39m)\n",
      "\u001b[36mFile \u001b[39m\u001b[32m~/Desktop/internship/Dealy_analysis/tempocom-app/objects/MacroNetwork.py:13\u001b[39m, in \u001b[36mMacroNetwork.__init__\u001b[39m\u001b[34m(self, path_to_mart)\u001b[39m\n\u001b[32m     11\u001b[39m \u001b[38;5;28mself\u001b[39m.links = get_mart(\u001b[33mf\u001b[39m\u001b[33m'\u001b[39m\u001b[38;5;132;01m{\u001b[39;00mpath_to_mart\u001b[38;5;132;01m}\u001b[39;00m\u001b[33m/public/network_graph.csv\u001b[39m\u001b[33m'\u001b[39m)\n\u001b[32m     12\u001b[39m \u001b[38;5;28mself\u001b[39m.stations = get_mart(\u001b[33mf\u001b[39m\u001b[33m'\u001b[39m\u001b[38;5;132;01m{\u001b[39;00mpath_to_mart\u001b[38;5;132;01m}\u001b[39;00m\u001b[33m/public/stations.csv\u001b[39m\u001b[33m'\u001b[39m)\n\u001b[32m---> \u001b[39m\u001b[32m13\u001b[39m \u001b[38;5;28;43mself\u001b[39;49m\u001b[43m.\u001b[49m\u001b[43mlinks\u001b[49m\u001b[43m[\u001b[49m\u001b[33;43m'\u001b[39;49m\u001b[33;43mdisabled\u001b[39;49m\u001b[33;43m'\u001b[39;49m\u001b[43m]\u001b[49m = \u001b[32m0\u001b[39m\n\u001b[32m     14\u001b[39m \u001b[38;5;66;03m#self.available_links = self.links[self.links['disabled'] == 0]\u001b[39;00m\n\u001b[32m     15\u001b[39m \u001b[38;5;66;03m#processing\u001b[39;00m\n\u001b[32m     16\u001b[39m \u001b[38;5;28mself\u001b[39m.compute_number_of_links()\n",
      "\u001b[31mTypeError\u001b[39m: 'NoneType' object does not support item assignment"
     ]
    }
   ],
   "source": [
    "test_test_get_shortest_path()"
   ]
  },
  {
   "cell_type": "code",
   "execution_count": null,
   "id": "7c5d5a49",
   "metadata": {},
   "outputs": [],
   "source": []
  }
 ],
 "metadata": {
  "kernelspec": {
   "display_name": "venv",
   "language": "python",
   "name": "python3"
  },
  "language_info": {
   "codemirror_mode": {
    "name": "ipython",
    "version": 3
   },
   "file_extension": ".py",
   "mimetype": "text/x-python",
   "name": "python",
   "nbconvert_exporter": "python",
   "pygments_lexer": "ipython3",
   "version": "3.12.3"
  }
 },
 "nbformat": 4,
 "nbformat_minor": 5
}
