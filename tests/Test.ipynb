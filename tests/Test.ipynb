{
 "cells": [
  {
   "cell_type": "markdown",
   "id": "d50419e2",
   "metadata": {},
   "source": []
  },
  {
   "cell_type": "code",
   "execution_count": 1,
   "id": "33ae702d",
   "metadata": {},
   "outputs": [
    {
     "name": "stderr",
     "output_type": "stream",
     "text": [
      "2025-06-10 12:19:47.385 WARNING streamlit.runtime.scriptrunner_utils.script_run_context: Thread 'MainThread': missing ScriptRunContext! This warning can be ignored when running in bare mode.\n"
     ]
    }
   ],
   "source": [
    "from streamlit.testing.v1 import AppTest\n",
    "\n",
    "at = AppTest.from_file(\"Home.py\")\n",
    "\n",
    "at.secrets[\"WORD\"] = \"Foobar\"\n",
    "\n",
    "at.run()\n",
    "\n",
    "assert not at.exception\n",
    "\n",
    "if at.warning:\n",
    "    assert at.warning[0].value == \"Try again.\""
   ]
  },
  {
   "cell_type": "code",
   "execution_count": 3,
   "id": "2fc54dac",
   "metadata": {},
   "outputs": [
    {
     "name": "stderr",
     "output_type": "stream",
     "text": [
      "2025-06-10 13:16:58.400 Thread 'MainThread': missing ScriptRunContext! This warning can be ignored when running in bare mode.\n"
     ]
    }
   ],
   "source": [
    "from streamlit.testing.v1 import AppTest\n",
    "\n",
    "at = AppTest. from_file(\"Home.py\")\n",
    "\n",
    "at. secrets [\"WORD\"] = \"Foobar\"\n",
    "\n",
    "at.run()\n",
    "\n",
    "assert not at.exception"
   ]
  },
  {
   "cell_type": "code",
   "execution_count": null,
   "id": "5ad62ce3",
   "metadata": {},
   "outputs": [
    {
     "ename": "SyntaxError",
     "evalue": "invalid syntax (1825415376.py, line 9)",
     "output_type": "error",
     "traceback": [
      "  \u001b[36mCell\u001b[39m\u001b[36m \u001b[39m\u001b[32mIn[5]\u001b[39m\u001b[32m, line 9\u001b[39m\n\u001b[31m    \u001b[39m\u001b[31mdef test_test_get_shortest_path( TestNetwork test_instance):\u001b[39m\n                                                 ^\n\u001b[31mSyntaxError\u001b[39m\u001b[31m:\u001b[39m invalid syntax\n"
     ]
    }
   ],
   "source": [
    "from test_network import TestNetwork\n",
    "\n",
    "import pytest\n",
    "from test_network import TestNetwork\n",
    "\n",
    "# Create an instance of the TestNetwork class\n",
    "test_instance = TestNetwork()\n",
    "\n",
    "def test_test_get_shortest_path( test_instance):\n",
    "    test_instance.setup_method()\n",
    "    test_instance.test_get_shortest_path()\n",
    "\n",
    "def test_test_get_shortest_path_no_path():\n",
    "    test_instance.setup_method()\n",
    "    test_instance.test_get_shortest_path_no_path()\n",
    "\n",
    "def test_test_get_shortest_path_same_station():\n",
    "    test_instance.setup_method()\n",
    "    test_instance.test_get_shortest_path_same_station()\n",
    "\n",
    "def test_test_cut_and_get_shortest_path():\n",
    "    test_instance.setup_method()\n",
    "    test_instance.test_cut_and_get_shortest_path()\n",
    "\n",
    "\n"
   ]
  },
  {
   "cell_type": "code",
   "execution_count": 4,
   "id": "ee4c35ea",
   "metadata": {},
   "outputs": [
    {
     "ename": "TypeError",
     "evalue": "test_test_cut_and_get_shortest_path() takes 0 positional arguments but 1 was given",
     "output_type": "error",
     "traceback": [
      "\u001b[31m---------------------------------------------------------------------------\u001b[39m",
      "\u001b[31mTypeError\u001b[39m                                 Traceback (most recent call last)",
      "\u001b[36mCell\u001b[39m\u001b[36m \u001b[39m\u001b[32mIn[4]\u001b[39m\u001b[32m, line 1\u001b[39m\n\u001b[32m----> \u001b[39m\u001b[32m1\u001b[39m \u001b[43mtest_test_cut_and_get_shortest_path\u001b[49m\u001b[43m(\u001b[49m\u001b[43mtest_instance\u001b[49m\u001b[43m)\u001b[49m\n",
      "\u001b[31mTypeError\u001b[39m: test_test_cut_and_get_shortest_path() takes 0 positional arguments but 1 was given"
     ]
    }
   ],
   "source": [
    "test_test_cut_and_get_shortest_path(test_instance)"
   ]
  },
  {
   "cell_type": "code",
   "execution_count": null,
   "id": "7c5d5a49",
   "metadata": {},
   "outputs": [],
   "source": []
  }
 ],
 "metadata": {
  "kernelspec": {
   "display_name": "venv",
   "language": "python",
   "name": "python3"
  },
  "language_info": {
   "codemirror_mode": {
    "name": "ipython",
    "version": 3
   },
   "file_extension": ".py",
   "mimetype": "text/x-python",
   "name": "python",
   "nbconvert_exporter": "python",
   "pygments_lexer": "ipython3",
   "version": "3.12.3"
  }
 },
 "nbformat": 4,
 "nbformat_minor": 5
}
