{
 "cells": [
  {
   "cell_type": "code",
   "execution_count": 1,
   "id": "093f6c39",
   "metadata": {},
   "outputs": [
    {
     "data": {
      "text/html": [
       "<h3 style='color:#1f77b4;'>📍 Delay by Station</h3>"
      ],
      "text/plain": [
       "<IPython.core.display.HTML object>"
      ]
     },
     "metadata": {},
     "output_type": "display_data"
    },
    {
     "data": {
      "application/vnd.jupyter.widget-view+json": {
       "model_id": "d27e53a1a83b4264b7207e22ccb2cf07",
       "version_major": 2,
       "version_minor": 0
      },
      "text/plain": [
       "VBox(children=(SelectMultiple(description='Stations:', index=(100,), layout=Layout(width='50%'), options=('Aal…"
      ]
     },
     "metadata": {},
     "output_type": "display_data"
    }
   ],
   "source": [
    "import pandas as pd\n",
    "import plotly.express as px\n",
    "import ipywidgets as widgets\n",
    "from IPython.display import display, clear_output, HTML\n",
    "\n",
    "# Load data\n",
    "DATA_PATH = \"/home/learner/Desktop/internship/Dealy_analysis/tempocom-app/df_monthly_with_headers.csv\"\n",
    "df_station = pd.read_csv(DATA_PATH)\n",
    "df_station[\"Stopping place (FR)\"] = df_station[\"Stopping place (FR)\"].astype(str).str.title()\n",
    "\n",
    "# Station selection\n",
    "station_options = sorted(df_station[\"Stopping place (FR)\"].dropna().unique())\n",
    "default_station = [s for s in [\"Brussel-Noord\", \"Bruxelles-Midi\"] if s in station_options]\n",
    "\n",
    "station_selector = widgets.SelectMultiple(\n",
    "    options=station_options,\n",
    "    value=default_station or station_options[:1],\n",
    "    description='Stations:',\n",
    "    rows=10,\n",
    "    layout=widgets.Layout(width='50%')\n",
    ")\n",
    "\n",
    "output_station = widgets.Output()\n",
    "\n",
    "def show_station_chart(stations):\n",
    "    with output_station:\n",
    "        clear_output()\n",
    "        df = df_station[df_station[\"Stopping place (FR)\"].isin(stations)].copy()\n",
    "        df[\"Total Delay\"] = df[\"Delay at departure\"].fillna(0) + df[\"Delay at arrival\"].fillna(0)\n",
    "        df = df[df[\"Total Delay\"] > 0]\n",
    "        df[\"Hour\"] = pd.to_datetime(\n",
    "            df[\"Actual departure time\"].combine_first(df[\"Actual arrival time\"]),\n",
    "            errors=\"coerce\"\n",
    "        ).dt.hour\n",
    "\n",
    "        grouped = df.groupby([\"Stopping place (FR)\", \"Hour\"])[\"Total Delay\"].sum().div(60).reset_index()\n",
    "\n",
    "        total = grouped[\"Total Delay\"].sum().round(1)\n",
    "        avg = grouped[\"Total Delay\"].mean().round(1)\n",
    "        max_ = grouped[\"Total Delay\"].max().round(1)\n",
    "\n",
    "        print(f\"🕒 Total Delay: {total} min\")\n",
    "        print(f\"📈 Avg Delay: {avg} min\")\n",
    "        print(f\"🚨 Max Delay: {max_} min\")\n",
    "        print(f\"🧾 Records: {len(grouped)}\")\n",
    "\n",
    "        fig = px.line(\n",
    "            grouped,\n",
    "            x=\"Hour\",\n",
    "            y=\"Total Delay\",\n",
    "            color=\"Stopping place (FR)\",\n",
    "            title=\"Station Delay by Hour\",\n",
    "            color_discrete_sequence=[\"#1f77b4\", \"#17becf\", \"#aec7e8\", \"#0066cc\", \"#3399ff\"]\n",
    "        )\n",
    "        fig.show()\n",
    "\n",
    "display(HTML(\"<h3 style='color:#1f77b4;'>📍 Delay by Station</h3>\"))\n",
    "display(widgets.VBox([station_selector, output_station]))\n",
    "widgets.interactive_output(show_station_chart, {\"stations\": station_selector});\n"
   ]
  },
  {
   "cell_type": "code",
   "execution_count": 2,
   "id": "706a31e3",
   "metadata": {},
   "outputs": [
    {
     "data": {
      "text/html": [
       "<h3 style='color:#2ca02c;'>🚆 Delay by Train Number</h3>"
      ],
      "text/plain": [
       "<IPython.core.display.HTML object>"
      ]
     },
     "metadata": {},
     "output_type": "display_data"
    },
    {
     "data": {
      "application/vnd.jupyter.widget-view+json": {
       "model_id": "8b076d27fa67431692056feb2b15feb8",
       "version_major": 2,
       "version_minor": 0
      },
      "text/plain": [
       "VBox(children=(SelectMultiple(description='Trains:', index=(0, 1), layout=Layout(width='50%'), options=('10', …"
      ]
     },
     "metadata": {},
     "output_type": "display_data"
    }
   ],
   "source": [
    "df_train = pd.read_csv(DATA_PATH)\n",
    "df_train[\"Train number\"] = df_train[\"Train number\"].astype(str)\n",
    "\n",
    "train_options = sorted(df_train[\"Train number\"].dropna().unique())\n",
    "default_train = train_options[:2] if len(train_options) >= 2 else train_options[:1]\n",
    "\n",
    "train_selector = widgets.SelectMultiple(\n",
    "    options=train_options,\n",
    "    value=default_train,\n",
    "    description='Trains:',\n",
    "    rows=10,\n",
    "    layout=widgets.Layout(width='50%')\n",
    ")\n",
    "\n",
    "output_train = widgets.Output()\n",
    "\n",
    "def show_train_chart(trains):\n",
    "    with output_train:\n",
    "        clear_output()\n",
    "        df = df_train[df_train[\"Train number\"].isin(trains)].copy()\n",
    "        df[\"Total Delay (min)\"] = df[\"Delay at departure\"].fillna(0) + df[\"Delay at arrival\"].fillna(0)\n",
    "        df[\"Hour\"] = pd.to_datetime(\n",
    "            df[\"Actual departure time\"].combine_first(df[\"Actual arrival time\"]),\n",
    "            errors=\"coerce\"\n",
    "        ).dt.hour\n",
    "\n",
    "        grouped = df.groupby([\"Train number\", \"Hour\"])[\"Total Delay (min)\"].sum().div(60).reset_index()\n",
    "\n",
    "        total = grouped[\"Total Delay (min)\"].sum().round(1)\n",
    "        avg = grouped[\"Total Delay (min)\"].mean().round(1)\n",
    "        max_ = grouped[\"Total Delay (min)\"].max().round(1)\n",
    "\n",
    "        print(f\"🕒 Total Delay: {total} min\")\n",
    "        print(f\"📊 Avg Delay: {avg} min\")\n",
    "        print(f\"🚨 Max Delay: {max_} min\")\n",
    "        print(f\"🔢 Records: {len(grouped)}\")\n",
    "\n",
    "        fig = px.line(\n",
    "            grouped,\n",
    "            x=\"Hour\",\n",
    "            y=\"Total Delay (min)\",\n",
    "            color=\"Train number\",\n",
    "            title=\"Train Delay by Hour\",\n",
    "            color_discrete_sequence=[\"#2ca02c\", \"#ff7f0e\", \"#bcbd22\", \"#98df8a\", \"#ffbb78\"]\n",
    "        )\n",
    "        fig.show()\n",
    "\n",
    "display(HTML(\"<h3 style='color:#2ca02c;'>🚆 Delay by Train Number</h3>\"))\n",
    "display(widgets.VBox([train_selector, output_train]))\n",
    "widgets.interactive_output(show_train_chart, {\"trains\": train_selector});\n"
   ]
  },
  {
   "cell_type": "code",
   "execution_count": 3,
   "id": "0a34d78f",
   "metadata": {},
   "outputs": [
    {
     "data": {
      "text/html": [
       "<h3 style='color:#d62728;'>🔁 Delay by Relation Direction</h3>"
      ],
      "text/plain": [
       "<IPython.core.display.HTML object>"
      ]
     },
     "metadata": {},
     "output_type": "display_data"
    },
    {
     "data": {
      "application/vnd.jupyter.widget-view+json": {
       "model_id": "e7ae8566a92c448cbbb796965ea1704e",
       "version_major": 2,
       "version_minor": 0
      },
      "text/plain": [
       "VBox(children=(SelectMultiple(description='Relations:', index=(0, 1, 2), layout=Layout(width='50%'), options=(…"
      ]
     },
     "metadata": {},
     "output_type": "display_data"
    }
   ],
   "source": [
    "df_relation = df_train.copy()\n",
    "\n",
    "relation_options = sorted(df_relation[\"Relation direction\"].dropna().unique())\n",
    "default_relations = relation_options[:3] if len(relation_options) >= 3 else relation_options\n",
    "\n",
    "relation_selector = widgets.SelectMultiple(\n",
    "    options=relation_options,\n",
    "    value=default_relations,\n",
    "    description='Relations:',\n",
    "    rows=10,\n",
    "    layout=widgets.Layout(width='50%')\n",
    ")\n",
    "\n",
    "output_relation = widgets.Output()\n",
    "\n",
    "def show_relation_chart(relations):\n",
    "    with output_relation:\n",
    "        clear_output()\n",
    "        df = df_relation[df_relation[\"Relation direction\"].isin(relations)].copy()\n",
    "        df[\"Total Delay\"] = df[\"Delay at departure\"].fillna(0) + df[\"Delay at arrival\"].fillna(0)\n",
    "        df[\"Hour\"] = pd.to_datetime(\n",
    "            df[\"Actual departure time\"].combine_first(df[\"Actual arrival time\"]),\n",
    "            errors=\"coerce\"\n",
    "        ).dt.hour\n",
    "\n",
    "        grouped = df.groupby([\"Relation direction\", \"Hour\"])[\"Total Delay\"].sum().div(60).reset_index()\n",
    "\n",
    "        total = grouped[\"Total Delay\"].sum().round(1)\n",
    "        avg = grouped[\"Total Delay\"].mean().round(1)\n",
    "        max_ = grouped[\"Total Delay\"].max().round(1)\n",
    "\n",
    "        print(f\"🕒 Total Delay: {total} min\")\n",
    "        print(f\"📈 Avg Delay: {avg} min\")\n",
    "        print(f\"🚨 Max Delay: {max_} min\")\n",
    "        print(f\"🧾 Records: {len(grouped)}\")\n",
    "\n",
    "        fig = px.line(\n",
    "            grouped,\n",
    "            x=\"Hour\",\n",
    "            y=\"Total Delay\",\n",
    "            color=\"Relation direction\",\n",
    "            title=\"Relation Direction Delay\",\n",
    "            color_discrete_sequence=[\"#d62728\", \"#e377c2\", \"#ff9896\", \"#c49c94\", \"#9467bd\"]\n",
    "        )\n",
    "        fig.show()\n",
    "\n",
    "display(HTML(\"<h3 style='color:#d62728;'>🔁 Delay by Relation Direction</h3>\"))\n",
    "display(widgets.VBox([relation_selector, output_relation]))\n",
    "widgets.interactive_output(show_relation_chart, {\"relations\": relation_selector});\n"
   ]
  },
  {
   "cell_type": "code",
   "execution_count": null,
   "id": "279120bc",
   "metadata": {},
   "outputs": [],
   "source": []
  }
 ],
 "metadata": {
  "kernelspec": {
   "display_name": "venv",
   "language": "python",
   "name": "python3"
  },
  "language_info": {
   "codemirror_mode": {
    "name": "ipython",
    "version": 3
   },
   "file_extension": ".py",
   "mimetype": "text/x-python",
   "name": "python",
   "nbconvert_exporter": "python",
   "pygments_lexer": "ipython3",
   "version": "3.12.3"
  }
 },
 "nbformat": 4,
 "nbformat_minor": 5
}
