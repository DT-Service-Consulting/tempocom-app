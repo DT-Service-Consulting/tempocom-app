{
 "cells": [
  {
   "cell_type": "code",
   "execution_count": 1,
   "id": "093f6c39",
   "metadata": {},
   "outputs": [
    {
     "data": {
      "text/html": [
       "<h3 style='color:#1f77b4;'>📍 Delay by Station</h3>"
      ],
      "text/plain": [
       "<IPython.core.display.HTML object>"
      ]
     },
     "metadata": {},
     "output_type": "display_data"
    },
    {
     "data": {
      "application/vnd.jupyter.widget-view+json": {
       "model_id": "21beb1075a4548a1bb442feab6cb4303",
       "version_major": 2,
       "version_minor": 0
      },
      "text/plain": [
       "VBox(children=(SelectMultiple(description='Stations:', index=(100,), layout=Layout(width='50%'), options=('Aal…"
      ]
     },
     "metadata": {},
     "output_type": "display_data"
    }
   ],
   "source": [
    "import pandas as pd\n",
    "import plotly.express as px\n",
    "import ipywidgets as widgets\n",
    "from IPython.display import display, clear_output, HTML\n",
    "\n",
    "# Load data\n",
    "DATA_PATH = \"/home/learner/Desktop/internship/Dealy_analysis/tempocom-app/df_monthly_with_headers.csv\"\n",
    "df_station = pd.read_csv(DATA_PATH)\n",
    "df_station[\"Stopping place (FR)\"] = df_station[\"Stopping place (FR)\"].astype(str).str.title()\n",
    "\n",
    "# Station selection\n",
    "station_options = sorted(df_station[\"Stopping place (FR)\"].dropna().unique())\n",
    "default_station = [s for s in [\"Brussel-Noord\", \"Bruxelles-Midi\"] if s in station_options]\n",
    "\n",
    "station_selector = widgets.SelectMultiple(\n",
    "    options=station_options,\n",
    "    value=default_station or station_options[:1],\n",
    "    description='Stations:',\n",
    "    rows=10,\n",
    "    layout=widgets.Layout(width='50%')\n",
    ")\n",
    "\n",
    "output_station = widgets.Output()\n",
    "\n",
    "def show_station_chart(stations):\n",
    "    \"\"\"\n",
    "    Display a line chart of total train delays by hour for selected stations.\n",
    "\n",
    "    Parameters\n",
    "    ----------\n",
    "    stations : list of str\n",
    "        List of station names (in French) to filter and visualize.\n",
    "\n",
    "    Functionality\n",
    "    -------------\n",
    "    - Filters the DataFrame for the selected stations.\n",
    "    - Computes total delay as the sum of 'Delay at departure' and 'Delay at arrival'.\n",
    "    - Drops records with zero total delay.\n",
    "    - Extracts the hour from the actual departure or arrival time.\n",
    "    - Groups by station and hour, summing total delays (in minutes).\n",
    "    - Prints summary statistics: total, average, and maximum delay, and record count.\n",
    "    - Displays an interactive line chart of total delay by hour for each station.\n",
    "\n",
    "    Returns\n",
    "    -------\n",
    "    None\n",
    "        The function outputs the chart and statistics directly in the notebook.\n",
    "    \"\"\"\n",
    "    with output_station:\n",
    "        clear_output()\n",
    "        df = df_station[df_station[\"Stopping place (FR)\"].isin(stations)].copy()\n",
    "        df[\"Total Delay\"] = df[\"Delay at departure\"].fillna(0) + df[\"Delay at arrival\"].fillna(0)\n",
    "        df = df[df[\"Total Delay\"] > 0]\n",
    "        df[\"Hour\"] = pd.to_datetime(\n",
    "            df[\"Actual departure time\"].combine_first(df[\"Actual arrival time\"]),\n",
    "            errors=\"coerce\"\n",
    "        ).dt.hour\n",
    "\n",
    "        grouped = df.groupby([\"Stopping place (FR)\", \"Hour\"])[\"Total Delay\"].sum().div(60).reset_index()\n",
    "\n",
    "        total = grouped[\"Total Delay\"].sum().round(1)\n",
    "        avg = grouped[\"Total Delay\"].mean().round(1)\n",
    "        max_ = grouped[\"Total Delay\"].max().round(1)\n",
    "\n",
    "        print(f\"🕒 Total Delay: {total} min\")\n",
    "        print(f\"📈 Avg Delay: {avg} min\")\n",
    "        print(f\"🚨 Max Delay: {max_} min\")\n",
    "        print(f\"🧾 Records: {len(grouped)}\")\n",
    "\n",
    "        fig = px.line(\n",
    "            grouped,\n",
    "            x=\"Hour\",\n",
    "            y=\"Total Delay\",\n",
    "            color=\"Stopping place (FR)\",\n",
    "            title=\"Station Delay by Hour\",\n",
    "            color_discrete_sequence=[\"#1f77b4\", \"#17becf\", \"#aec7e8\", \"#0066cc\", \"#3399ff\"]\n",
    "        )\n",
    "        fig.show()\n",
    "\n",
    "display(HTML(\"<h3 style='color:#1f77b4;'>📍 Delay by Station</h3>\"))\n",
    "display(widgets.VBox([station_selector, output_station]))\n",
    "widgets.interactive_output(show_station_chart, {\"stations\": station_selector});\n"
   ]
  },
  {
   "cell_type": "code",
   "execution_count": 2,
   "id": "706a31e3",
   "metadata": {},
   "outputs": [
    {
     "data": {
      "text/html": [
       "<h3 style='color:#2ca02c;'>🚆 Delay by Train Number</h3>"
      ],
      "text/plain": [
       "<IPython.core.display.HTML object>"
      ]
     },
     "metadata": {},
     "output_type": "display_data"
    },
    {
     "data": {
      "application/vnd.jupyter.widget-view+json": {
       "model_id": "b8db3f17fe694fdd9ba5c7a6bd411531",
       "version_major": 2,
       "version_minor": 0
      },
      "text/plain": [
       "VBox(children=(SelectMultiple(description='Trains:', index=(0, 1), layout=Layout(width='50%'), options=('10', …"
      ]
     },
     "metadata": {},
     "output_type": "display_data"
    }
   ],
   "source": [
    "df_train = pd.read_csv(DATA_PATH)\n",
    "df_train[\"Train number\"] = df_train[\"Train number\"].astype(str)\n",
    "\n",
    "train_options = sorted(df_train[\"Train number\"].dropna().unique())\n",
    "default_train = train_options[:2] if len(train_options) >= 2 else train_options[:1]\n",
    "\n",
    "train_selector = widgets.SelectMultiple(\n",
    "    options=train_options,\n",
    "    value=default_train,\n",
    "    description='Trains:',\n",
    "    rows=10,\n",
    "    layout=widgets.Layout(width='50%')\n",
    ")\n",
    "\n",
    "output_train = widgets.Output()\n",
    "\n",
    "def show_train_chart(trains): \n",
    "    \"\"\"\n",
    "    Display a line chart of total train delays by hour for selected train numbers.\n",
    "\n",
    "    Parameters\n",
    "    ----------\n",
    "    trains : list of str\n",
    "        List of train numbers to filter and visualize.\n",
    "\n",
    "    Functionality\n",
    "    -------------\n",
    "    - Filters the DataFrame for the selected train numbers.\n",
    "    - Computes total delay as the sum of 'Delay at departure' and 'Delay at arrival'.\n",
    "    - Extracts the hour from the actual departure or arrival time.\n",
    "    - Groups by train number and hour, summing total delays (in minutes).\n",
    "    - Prints summary statistics: total, average, and maximum delay, and record count.\n",
    "    - Displays an interactive line chart of total delay by hour for each train.\n",
    "\n",
    "    Returns\n",
    "    -------\n",
    "    None\n",
    "        The function outputs the chart and statistics directly in the notebook.\n",
    "    \"\"\"\n",
    "    \n",
    "    with output_train:\n",
    "        clear_output()\n",
    "        df = df_train[df_train[\"Train number\"].isin(trains)].copy()\n",
    "        df[\"Total Delay (min)\"] = df[\"Delay at departure\"].fillna(0) + df[\"Delay at arrival\"].fillna(0)\n",
    "        df[\"Hour\"] = pd.to_datetime(\n",
    "            df[\"Actual departure time\"].combine_first(df[\"Actual arrival time\"]),\n",
    "            errors=\"coerce\"\n",
    "        ).dt.hour\n",
    "\n",
    "        grouped = df.groupby([\"Train number\", \"Hour\"])[\"Total Delay (min)\"].sum().div(60).reset_index()\n",
    "\n",
    "        total = grouped[\"Total Delay (min)\"].sum().round(1)\n",
    "        avg = grouped[\"Total Delay (min)\"].mean().round(1)\n",
    "        max_ = grouped[\"Total Delay (min)\"].max().round(1)\n",
    "\n",
    "        print(f\"🕒 Total Delay: {total} min\")\n",
    "        print(f\"📊 Avg Delay: {avg} min\")\n",
    "        print(f\"🚨 Max Delay: {max_} min\")\n",
    "        print(f\"🔢 Records: {len(grouped)}\")\n",
    "\n",
    "        fig = px.line(\n",
    "            grouped,\n",
    "            x=\"Hour\",\n",
    "            y=\"Total Delay (min)\",\n",
    "            color=\"Train number\",\n",
    "            title=\"Train Delay by Hour\",\n",
    "            color_discrete_sequence=[\"#2ca02c\", \"#ff7f0e\", \"#bcbd22\", \"#98df8a\", \"#ffbb78\"]\n",
    "        )\n",
    "        fig.show()\n",
    "\n",
    "display(HTML(\"<h3 style='color:#2ca02c;'>🚆 Delay by Train Number</h3>\"))\n",
    "display(widgets.VBox([train_selector, output_train]))\n",
    "widgets.interactive_output(show_train_chart, {\"trains\": train_selector});\n"
   ]
  },
  {
   "cell_type": "code",
   "execution_count": 3,
   "id": "0a34d78f",
   "metadata": {},
   "outputs": [
    {
     "data": {
      "text/html": [
       "<h3 style='color:#d62728;'>🔁 Delay by Relation Direction</h3>"
      ],
      "text/plain": [
       "<IPython.core.display.HTML object>"
      ]
     },
     "metadata": {},
     "output_type": "display_data"
    },
    {
     "data": {
      "application/vnd.jupyter.widget-view+json": {
       "model_id": "4c2d8d23808849bd8c8d0e9e589a15c4",
       "version_major": 2,
       "version_minor": 0
      },
      "text/plain": [
       "VBox(children=(SelectMultiple(description='Relations:', index=(0, 1, 2), layout=Layout(width='50%'), options=(…"
      ]
     },
     "metadata": {},
     "output_type": "display_data"
    }
   ],
   "source": [
    "df_relation = df_train.copy()\n",
    "\n",
    "relation_options = sorted(df_relation[\"Relation direction\"].dropna().unique())\n",
    "default_relations = relation_options[:3] if len(relation_options) >= 3 else relation_options\n",
    "\n",
    "relation_selector = widgets.SelectMultiple(\n",
    "    options=relation_options,\n",
    "    value=default_relations,\n",
    "    description='Relations:',\n",
    "    rows=10,\n",
    "    layout=widgets.Layout(width='50%')\n",
    ")\n",
    "\n",
    "output_relation = widgets.Output()\n",
    "\n",
    "def show_relation_chart(relations):\n",
    "    \"\"\"\n",
    "    Display a line chart of total train delays by hour for selected relation directions.\n",
    "\n",
    "    Parameters\n",
    "    ----------\n",
    "    relations : list of str\n",
    "        List of relation directions to filter and visualize.\n",
    "\n",
    "    Functionality\n",
    "    -------------\n",
    "    - Filters the DataFrame for the selected relation directions.\n",
    "    - Computes total delay as the sum of 'Delay at departure' and 'Delay at arrival'.\n",
    "    - Extracts the hour from the actual departure or arrival time.\n",
    "    - Groups by relation direction and hour, summing total delays (in minutes).\n",
    "    - Prints summary statistics: total, average, and maximum delay, and record count.\n",
    "    - Displays an interactive line chart of total delay by hour for each relation.\n",
    "\n",
    "    Returns \n",
    "    -------\n",
    "    None\n",
    "        The function outputs the chart and statistics directly in the notebook.\n",
    "    \"\"\"\n",
    "    with output_relation:\n",
    "        clear_output()\n",
    "        df = df_relation[df_relation[\"Relation direction\"].isin(relations)].copy()\n",
    "        df[\"Total Delay\"] = df[\"Delay at departure\"].fillna(0) + df[\"Delay at arrival\"].fillna(0)\n",
    "        df[\"Hour\"] = pd.to_datetime(\n",
    "            df[\"Actual departure time\"].combine_first(df[\"Actual arrival time\"]),\n",
    "            errors=\"coerce\"\n",
    "        ).dt.hour\n",
    "\n",
    "        grouped = df.groupby([\"Relation direction\", \"Hour\"])[\"Total Delay\"].sum().div(60).reset_index()\n",
    "\n",
    "        total = grouped[\"Total Delay\"].sum().round(1)\n",
    "        avg = grouped[\"Total Delay\"].mean().round(1)\n",
    "        max_ = grouped[\"Total Delay\"].max().round(1)\n",
    "\n",
    "        print(f\"🕒 Total Delay: {total} min\")\n",
    "        print(f\"📈 Avg Delay: {avg} min\")\n",
    "        print(f\"🚨 Max Delay: {max_} min\")\n",
    "        print(f\"🧾 Records: {len(grouped)}\")\n",
    "\n",
    "        fig = px.line(\n",
    "            grouped,\n",
    "            x=\"Hour\",\n",
    "            y=\"Total Delay\",\n",
    "            color=\"Relation direction\",\n",
    "            title=\"Relation Direction Delay\",\n",
    "            color_discrete_sequence=[\"#d62728\", \"#e377c2\", \"#ff9896\", \"#c49c94\", \"#9467bd\"]\n",
    "        )\n",
    "        fig.show()\n",
    "\n",
    "display(HTML(\"<h3 style='color:#d62728;'>🔁 Delay by Relation Direction</h3>\"))\n",
    "display(widgets.VBox([relation_selector, output_relation]))\n",
    "widgets.interactive_output(show_relation_chart, {\"relations\": relation_selector});\n"
   ]
  },
  {
   "cell_type": "code",
   "execution_count": 4,
   "id": "279120bc",
   "metadata": {},
   "outputs": [
    {
     "data": {
      "text/html": [
       "<h3 style='color:#1f77b4;'>📊 Delay Distribution by Train (Aligned Smooth Line)</h3>"
      ],
      "text/plain": [
       "<IPython.core.display.HTML object>"
      ]
     },
     "metadata": {},
     "output_type": "display_data"
    },
    {
     "data": {
      "application/vnd.jupyter.widget-view+json": {
       "model_id": "bd7d1762e9494c599d45fdfcd4e8abae",
       "version_major": 2,
       "version_minor": 0
      },
      "text/plain": [
       "VBox(children=(Dropdown(description='Train:', layout=Layout(width='50%'), options=('10', '10304', '10305', '10…"
      ]
     },
     "metadata": {},
     "output_type": "display_data"
    },
    {
     "data": {
      "application/vnd.jupyter.widget-view+json": {
       "model_id": "29516d6bc8634a20aafb35911376a05a",
       "version_major": 2,
       "version_minor": 0
      },
      "text/plain": [
       "Output()"
      ]
     },
     "execution_count": 4,
     "metadata": {},
     "output_type": "execute_result"
    }
   ],
   "source": [
    "from scipy.interpolate import PchipInterpolator\n",
    "import numpy as np\n",
    "\n",
    "train_dropdown = widgets.Dropdown(\n",
    "    options=train_options,\n",
    "    value=default_train[0],\n",
    "    description='Train:',\n",
    "    layout=widgets.Layout(width='50%')\n",
    ")\n",
    "\n",
    "output_dist = widgets.Output()\n",
    "\n",
    "def show_train_delay_distribution(train):\n",
    "    with output_dist:\n",
    "        clear_output()\n",
    "\n",
    "        df = df_train[df_train[\"Train number\"] == train].copy()\n",
    "        df[\"Total Delay (min)\"] = df[\"Delay at departure\"].fillna(0) + df[\"Delay at arrival\"].fillna(0)\n",
    "        df = df.dropna(subset=[\"Total Delay (min)\"])\n",
    "\n",
    "        bins = list(range(0, 70, 5))\n",
    "        labels = [f\"{i}-{i+5}\" for i in bins[:-1]]\n",
    "\n",
    "        df[\"Delay Bin (min)\"] = pd.cut(df[\"Total Delay (min)\"], bins=bins, labels=labels, right=False)\n",
    "\n",
    "        grouped = df.groupby(\"Delay Bin (min)\", observed=True).size().reset_index(name=\"Frequency\")\n",
    "        full_df = pd.DataFrame({\"Delay Bin (min)\": labels})\n",
    "        final = pd.merge(full_df, grouped, on=\"Delay Bin (min)\", how=\"left\").fillna(0)\n",
    "        final[\"Frequency\"] = final[\"Frequency\"].astype(int)\n",
    "\n",
    "        # Numeric x: bin centers\n",
    "        bin_centers = np.array([(bins[i] + bins[i+1]) / 2 for i in range(len(bins) - 1)])\n",
    "        final[\"Bin Center\"] = bin_centers\n",
    "\n",
    "        # Bar chart with numeric x\n",
    "        fig = px.bar(\n",
    "            final,\n",
    "            x=\"Bin Center\",\n",
    "            y=\"Frequency\",\n",
    "            text=\"Frequency\",\n",
    "            title=f\"🚆 Delay Distribution - Train {train}\",\n",
    "            labels={\"Frequency\": \"Count\", \"Bin Center\": \"Delay Range (min)\"},\n",
    "            color_discrete_sequence=[\"#1f77b4\"],\n",
    "        )\n",
    "        fig.for_each_trace(lambda t: t.update(textposition=\"outside\"))\n",
    "\n",
    "        # Smooth line with PCHIP interpolation\n",
    "        pchip = PchipInterpolator(final[\"Bin Center\"], final[\"Frequency\"])\n",
    "        x_smooth = np.linspace(final[\"Bin Center\"].min(), final[\"Bin Center\"].max(), 300)\n",
    "        y_smooth = pchip(x_smooth)\n",
    "\n",
    "        fig.add_scatter(\n",
    "            x=x_smooth,\n",
    "            y=y_smooth,\n",
    "            mode=\"lines\",\n",
    "            name=\"Smooth Distribution Line\",\n",
    "            line=dict(color=\"#ff7f0e\", width=2),\n",
    "            showlegend=False,\n",
    "        )\n",
    "\n",
    "        # Set x-axis ticks and labels to match bins\n",
    "        fig.update_layout(\n",
    "            xaxis=dict(\n",
    "                tickmode=\"array\",\n",
    "                tickvals=final[\"Bin Center\"],\n",
    "                ticktext=labels,\n",
    "                title=\"Delay Range (min)\",\n",
    "            ),\n",
    "            yaxis_title=\"Frequency\",\n",
    "            bargap=0.15,\n",
    "            height=500,\n",
    "        )\n",
    "        fig.show()\n",
    "\n",
    "\n",
    "display(HTML(\"<h3 style='color:#1f77b4;'>📊 Delay Distribution by Train (Aligned Smooth Line)</h3>\"))\n",
    "display(widgets.VBox([train_dropdown, output_dist]))\n",
    "widgets.interactive_output(show_train_delay_distribution, {\"train\": train_dropdown})\n"
   ]
  },
  {
   "cell_type": "code",
   "execution_count": 1,
   "id": "bb195e20",
   "metadata": {},
   "outputs": [],
   "source": [
    "import pandas as pd\n",
    "Cdf= pd.read_csv(\"/home/learner/Desktop/internship/Dealy_analysis/tempocom-app/merged_data.csv\",delimiter=',')"
   ]
  },
  {
   "cell_type": "code",
   "execution_count": 2,
   "id": "b8b40c19",
   "metadata": {},
   "outputs": [
    {
     "data": {
      "text/plain": [
       "Index(['DATDEP', 'TRAIN_NO', 'RELATION', 'TRAIN_SERV', 'PTCAR_NO', 'THOP1_COD',\n",
       "       'LINE_NO_DEP', 'REAL_TIME_ARR', 'REAL_TIME_DEP', 'PLANNED_TIME_ARR',\n",
       "       'PLANNED_TIME_DEP', 'DELAY_ARR', 'DELAY_DEP', 'CIRC_TYP',\n",
       "       'RELATION_DIRECTION', 'PTCAR_LG_NM_NL', 'LINE_NO_ARR',\n",
       "       'PLANNED_DATE_ARR', 'PLANNED_DATE_DEP', 'REAL_DATE_ARR',\n",
       "       'REAL_DATE_DEP', 'Mois'],\n",
       "      dtype='object')"
      ]
     },
     "execution_count": 2,
     "metadata": {},
     "output_type": "execute_result"
    }
   ],
   "source": [
    "Cdf.columns"
   ]
  },
  {
   "cell_type": "code",
   "execution_count": 3,
   "id": "80533c71",
   "metadata": {},
   "outputs": [
    {
     "data": {
      "text/html": [
       "<h3 style='color:#1f77b4;'>📊 Delay Distribution by Train (Aligned Smooth Line)</h3>"
      ],
      "text/plain": [
       "<IPython.core.display.HTML object>"
      ]
     },
     "metadata": {},
     "output_type": "display_data"
    },
    {
     "data": {
      "application/vnd.jupyter.widget-view+json": {
       "model_id": "655d78631c6043ee8c417ed527b377f7",
       "version_major": 2,
       "version_minor": 0
      },
      "text/plain": [
       "VBox(children=(Dropdown(description='Train:', layout=Layout(width='50%'), options=('10', '10304', '10305', '10…"
      ]
     },
     "metadata": {},
     "output_type": "display_data"
    },
    {
     "data": {
      "application/vnd.jupyter.widget-view+json": {
       "model_id": "15db30bfa69942fdb0fc4eb7094700f6",
       "version_major": 2,
       "version_minor": 0
      },
      "text/plain": [
       "Output()"
      ]
     },
     "execution_count": 3,
     "metadata": {},
     "output_type": "execute_result"
    }
   ],
   "source": [
    "from scipy.interpolate import PchipInterpolator\n",
    "import numpy as np\n",
    "import pandas as pd\n",
    "import ipywidgets as widgets\n",
    "from IPython.display import display, clear_output, HTML\n",
    "import plotly.express as px\n",
    "\n",
    "# Assuming df_train is already loaded\n",
    "df_train = Cdf.copy()\n",
    "df_train[\"TRAIN_NO\"] = df_train[\"TRAIN_NO\"].astype(str)\n",
    "train_options = sorted(df_train[\"TRAIN_NO\"].dropna().unique())\n",
    "default_train = train_options[0] if train_options else None\n",
    "\n",
    "train_dropdown = widgets.Dropdown(\n",
    "    options=train_options,\n",
    "    value=default_train,\n",
    "    description='Train:',\n",
    "    layout=widgets.Layout(width='50%')\n",
    ")\n",
    "\n",
    "output_dist = widgets.Output()\n",
    "\n",
    "def show_train_delay_distribution(train):\n",
    "    with output_dist:\n",
    "        clear_output()\n",
    "        \n",
    "        df = df_train[df_train[\"TRAIN_NO\"] == train].copy()\n",
    "        df[\"Total Delay (min)\"] = df[\"DELAY_ARR\"].fillna(0) + df[\"DELAY_DEP\"].fillna(0)\n",
    "        df = df.dropna(subset=[\"Total Delay (min)\"])\n",
    "\n",
    "        bins = list(range(0, 70, 5))\n",
    "        labels = [f\"{i}-{i+5}\" for i in bins[:-1]]\n",
    "\n",
    "        df[\"Delay Bin (min)\"] = pd.cut(df[\"Total Delay (min)\"], bins=bins, labels=labels, right=False)\n",
    "\n",
    "        grouped = df.groupby(\"Delay Bin (min)\", observed=True).size().reset_index(name=\"Frequency\")\n",
    "        full_df = pd.DataFrame({\"Delay Bin (min)\": labels})\n",
    "        final = pd.merge(full_df, grouped, on=\"Delay Bin (min)\", how=\"left\").fillna(0)\n",
    "        final[\"Frequency\"] = final[\"Frequency\"].astype(int)\n",
    "\n",
    "        # Numeric x: bin centers\n",
    "        bin_centers = np.array([(bins[i] + bins[i+1]) / 2 for i in range(len(bins) - 1)])\n",
    "        final[\"Bin Center\"] = bin_centers\n",
    "\n",
    "        # Bar chart with numeric x\n",
    "        fig = px.bar(\n",
    "            final,\n",
    "            x=\"Bin Center\",\n",
    "            y=\"Frequency\",\n",
    "            text=\"Frequency\",\n",
    "            title=f\"🚆 Delay Distribution - Train {train}\",\n",
    "            labels={\"Frequency\": \"Count\", \"Bin Center\": \"Delay Range (min)\"},\n",
    "            color_discrete_sequence=[\"#1f77b4\"],\n",
    "        )\n",
    "        fig.for_each_trace(lambda t: t.update(textposition=\"outside\"))\n",
    "\n",
    "        # Smooth line with PCHIP interpolation\n",
    "        pchip = PchipInterpolator(final[\"Bin Center\"], final[\"Frequency\"])\n",
    "        x_smooth = np.linspace(final[\"Bin Center\"].min(), final[\"Bin Center\"].max(), 300)\n",
    "        y_smooth = pchip(x_smooth)\n",
    "\n",
    "        fig.add_scatter(\n",
    "            x=x_smooth,\n",
    "            y=y_smooth,\n",
    "            mode=\"lines\",\n",
    "            name=\"Smooth Distribution Line\",\n",
    "            line=dict(color=\"#ff7f0e\", width=2),\n",
    "            showlegend=False,\n",
    "        )\n",
    "\n",
    "        # Set x-axis ticks and labels to match bins\n",
    "        fig.update_layout(\n",
    "            xaxis=dict(\n",
    "                tickmode=\"array\",\n",
    "                tickvals=final[\"Bin Center\"],\n",
    "                ticktext=labels,\n",
    "                title=\"Delay Range (min)\",\n",
    "            ),\n",
    "            yaxis_title=\"Frequency\",\n",
    "            bargap=0.15,\n",
    "            height=500,\n",
    "        )\n",
    "        fig.show()\n",
    "\n",
    "\n",
    "display(HTML(\"<h3 style='color:#1f77b4;'>📊 Delay Distribution by Train (Aligned Smooth Line)</h3>\"))\n",
    "display(widgets.VBox([train_dropdown, output_dist]))\n",
    "widgets.interactive_output(show_train_delay_distribution, {\"train\": train_dropdown})\n"
   ]
  },
  {
   "cell_type": "code",
   "execution_count": null,
   "id": "0aeb7e79",
   "metadata": {},
   "outputs": [],
   "source": []
  }
 ],
 "metadata": {
  "kernelspec": {
   "display_name": "venv",
   "language": "python",
   "name": "python3"
  },
  "language_info": {
   "codemirror_mode": {
    "name": "ipython",
    "version": 3
   },
   "file_extension": ".py",
   "mimetype": "text/x-python",
   "name": "python",
   "nbconvert_exporter": "python",
   "pygments_lexer": "ipython3",
   "version": "3.12.3"
  }
 },
 "nbformat": 4,
 "nbformat_minor": 5
}
