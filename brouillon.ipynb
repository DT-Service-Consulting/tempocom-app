{
 "cells": [
  {
   "cell_type": "code",
   "execution_count": null,
   "metadata": {},
   "outputs": [],
   "source": [
    "import pandas as pd\n",
    "\n",
    "pd.read_csv('./mart/public/network_graph.csv')"
   ]
  },
  {
   "cell_type": "code",
   "execution_count": 11,
   "metadata": {},
   "outputs": [],
   "source": [
    "# anonymize colt data\n",
    "import pandas as pd\n",
    "\n",
    "df = pd.read_csv('./mart/private/colt.csv')\n",
    "df.head(2)\n",
    "\n",
    "leaders = df['leader'].dropna().unique()\n",
    "\n",
    "leaders_ids_df = pd.DataFrame([{\n",
    "    'leader_id': idx,\n",
    "    'leader_name': leader\n",
    "} for idx, leader in enumerate(leaders)])\n",
    "leaders_ids_df.to_csv('./mart/private/leaders_ids.csv', index=False)\n",
    "\n",
    "\n",
    "colt = pd.read_csv('./mart/private/colt.csv')\n",
    "colt['leader'] = colt['leader'].map(leaders_ids_df.set_index('leader_name')['leader_id'])\n",
    "colt.to_csv('./mart/private/colt.csv', index=False)\n",
    "\n",
    "\n",
    "\n",
    "\n",
    "\n"
   ]
  }
 ],
 "metadata": {
  "kernelspec": {
   "display_name": "Python 3",
   "language": "python",
   "name": "python3"
  },
  "language_info": {
   "codemirror_mode": {
    "name": "ipython",
    "version": 3
   },
   "file_extension": ".py",
   "mimetype": "text/x-python",
   "name": "python",
   "nbconvert_exporter": "python",
   "pygments_lexer": "ipython3",
   "version": "3.9.6"
  }
 },
 "nbformat": 4,
 "nbformat_minor": 2
}
